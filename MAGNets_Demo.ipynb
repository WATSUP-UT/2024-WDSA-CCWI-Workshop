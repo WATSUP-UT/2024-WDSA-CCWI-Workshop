{
 "cells": [
  {
   "cell_type": "markdown",
   "id": "7e2b9c24",
   "metadata": {
    "id": "7e2b9c24"
   },
   "source": [
    "![MAGNets_logo.png](data:image/png;base64,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)\n",
    "\n",
    "# MAGNets Example\n",
    "\n",
    "We will demonstrate reducing the hydraulic model of network KY2 <br>"
   ]
  },
  {
   "cell_type": "code",
   "execution_count": null,
   "id": "HGBtylfgaXNo",
   "metadata": {
    "colab": {
     "base_uri": "https://localhost:8080/"
    },
    "id": "HGBtylfgaXNo",
    "outputId": "7c5a0091-ffc4-4da6-8af1-b2b4a2e21ade"
   },
   "outputs": [],
   "source": [
    "# here we pip install all the packages we will be using this ipynb file.\n",
    "!pip install magnets wntr matplotlib networkx "
   ]
  },
  {
   "cell_type": "markdown",
   "id": "41c7697b",
   "metadata": {
    "id": "41c7697b"
   },
   "source": [
    "## Import packages"
   ]
  },
  {
   "cell_type": "code",
   "execution_count": null,
   "id": "8c8425b9",
   "metadata": {
    "id": "8c8425b9"
   },
   "outputs": [],
   "source": [
    "# here we import the packages we just installed above.\n",
    "import magnets as mg\n",
    "import time\n",
    "import wntr\n",
    "import matplotlib.pyplot as plt\n",
    "import networkx.drawing.nx_pylab as nxp\n",
    "\n",
    "import warnings\n",
    "warnings.filterwarnings('ignore')"
   ]
  },
  {
   "cell_type": "markdown",
   "id": "c4fc2635",
   "metadata": {
    "id": "c4fc2635"
   },
   "source": [
    "## Network plotting"
   ]
  },
  {
   "cell_type": "code",
   "execution_count": null,
   "id": "1e4b9813",
   "metadata": {
    "id": "1e4b9813"
   },
   "outputs": [],
   "source": [
    "# We will use this function to plot the networks\n",
    "# Red squares represent reservoirs and blue hexagons represent tanks\n",
    "\n",
    "def plot_network(wn, title, num):\n",
    "\n",
    "    G = wn.get_graph()\n",
    "    G_edge_list = list(G.edges())\n",
    "\n",
    "    pos_dict = {}\n",
    "    for node_name, node in wn.nodes():\n",
    "        pos_dict[node_name] = node.coordinates\n",
    "\n",
    "    plt.sca(ax[num])\n",
    "    nxp.draw_networkx_nodes(G, pos_dict, node_size = 5, node_color = 'k', ax = ax[num])\n",
    "    nxp.draw_networkx_nodes(G, pos_dict, nodelist = wn.tank_name_list, node_size = 30, node_color = 'b', node_shape = 'h', ax = ax[num])\n",
    "    nxp.draw_networkx_nodes(G, pos_dict, nodelist = wn.reservoir_name_list, node_size = 30, node_color = 'r', node_shape = 's', ax = ax[num])\n",
    "    nxp.draw_networkx_edges(G, pos_dict, edgelist = G_edge_list, edge_color = 'k', width = 1, arrows = False, ax = ax[num])\n",
    "    ax[num].set_axis_off\n",
    "    ax[num].set_title(title)"
   ]
  },
  {
   "cell_type": "markdown",
   "id": "2387c292",
   "metadata": {
    "id": "2387c292"
   },
   "source": [
    "## Getting started\n",
    "\n",
    "MAGNets' `reduce_model` function allows the user to reduce the hydraulic model of a water distribution network (WDN) to a hydraulically equivalent model with fewer nodes.\n",
    "\n",
    "The inputs of the `reduce_model` function include:\n",
    "1. `inp_file`: the EPANET-compatible .inp file of the water distribution network model.\n",
    "2. `op_pt`: (optional, default = 0) the operating point, or the reporting time step of the hydraulic simulation at which the non-linear headloss equations are linearized.\n",
    "3. `nodes_to_keep`: (optional, default = []) a list of nodes the user wishes to retain in the reduced model.\n",
    "4. `max_nodal_degree`: (optional, default = None) the maximum nodal degree of nodes being removed from the model. The nodal degree of a node is equal to the number of pipes incident to the node.\n",
    "\n",
    "The outputs of the `reduce_model` function include:\n",
    "1. water network model object of the reduced network model\n",
    "2. .inp file of the reduced network written into the folder it is located in."
   ]
  },
  {
   "cell_type": "markdown",
   "id": "cba75350",
   "metadata": {},
   "source": [
    "## Setting a baseline\n",
    "Let us begin by running a hydraulic simulation (using WNTR) for network KY2 and plotting tank level simulation reuslts."
   ]
  },
  {
   "cell_type": "code",
   "execution_count": null,
   "id": "8cdd4595",
   "metadata": {},
   "outputs": [],
   "source": [
    "# Define .INP file of network model \n",
    "inp_file = 'networks/ky2.inp'\n",
    "\n",
    "# Define water network model\n",
    "wn = wntr.network.WaterNetworkModel(inp_file) \n",
    "\n",
    "# Run a hydaulic simulation using the EPANET engine\n",
    "sim = wntr.sim.EpanetSimulator(wn)            \n",
    "results = sim.run_sim()"
   ]
  },
  {
   "cell_type": "code",
   "execution_count": null,
   "id": "4a6b84c1",
   "metadata": {},
   "outputs": [],
   "source": [
    "# Plot KY2 tank levels \n",
    "fig, ax = plt.subplots(1,wn.num_tanks,figsize=(14,4))\n",
    "for index, tank_name in enumerate(wn.tank_name_list):\n",
    "    ax[index].plot(results.node['head'].index/3600, results.node['head'].loc[:,tank_name], lw = 2, color = 'r')\n",
    "    ax[index].set_xlabel('Time [hr]', fontsize = 18)\n",
    "    ax[index].set_ylabel('{} tank level [m]'.format(tank_name), fontsize = 18)\n",
    "fig.tight_layout()"
   ]
  },
  {
   "cell_type": "markdown",
   "id": "279c7906",
   "metadata": {
    "id": "279c7906"
   },
   "source": [
    "## Basic model reduction\n",
    "In this example, we demonstrate how to reduce a network model without proving any optional input. We plot the original and reduced networks, as well as number of nodes and links, running time, and tank levels."
   ]
  },
  {
   "cell_type": "code",
   "execution_count": null,
   "id": "e3716579",
   "metadata": {
    "colab": {
     "base_uri": "https://localhost:8080/",
     "height": 508
    },
    "id": "e3716579",
    "outputId": "da0669f2-709f-4680-e770-726330fd82ec"
   },
   "outputs": [],
   "source": [
    "# Call model reduction function\n",
    "t1 = time.time()\n",
    "mg1 = mg.reduction.reduce_model(inp_file)\n",
    "t2 = time.time()\n",
    "\n",
    "# Plot the original network\n",
    "fig, ax = plt.subplots(1, 2, figsize=(12,5))\n",
    "wn = wntr.network.WaterNetworkModel(inp_file)\n",
    "plot_network(wn, 'Full network', 0)\n",
    "\n",
    "# Plot the reduced network\n",
    "wn2 = wntr.network.WaterNetworkModel('networks/reduced 0 ky2.inp')\n",
    "plot_network(wn2, 'Fully reduced network', 1)\n",
    "plt.setp(ax, ylim=ax[0].get_ylim())\n",
    "plt.setp(ax, xlim=ax[0].get_xlim())\n",
    "\n",
    "# Display reduction time and number of elements\n",
    "print('Total reduction time:', str(round(t2-t1, 2)), 's')\n",
    "print('Number of junctions in the original network:', \"\\033[1m\", wn.num_junctions, \"\\033[0;0m\", 'vs. number of junctions in the reduced network:',\"\\033[1m\", wn2.num_junctions, \"\\033[0;0m\")\n",
    "print('Number of pipes in the original network:', \"\\033[1m\",wn.num_pipes,\"\\033[0;0m\", 'vs. number of pipes in the reduced network:',\"\\033[1m\", wn2.num_pipes, \"\\033[0;0m\")"
   ]
  },
  {
   "cell_type": "code",
   "execution_count": null,
   "id": "0575f811",
   "metadata": {},
   "outputs": [],
   "source": [
    "# Run a hydaulic simulation for the reduced model \n",
    "sim2 = wntr.sim.EpanetSimulator(wn2)            \n",
    "results2 = sim2.run_sim()\n",
    "\n",
    "# Plot KY2 tank levels \n",
    "fig, ax = plt.subplots(1,3,figsize=(14,4))\n",
    "for index, tank_name in enumerate(wn.tank_name_list):\n",
    "    ax[index].plot(results.node['head'].index/3600, results.node['head'].loc[:,tank_name], lw = 2, color = 'r', label = 'Full network')\n",
    "    ax[index].plot(results2.node['head'].index/3600, results2.node['head'].loc[:,tank_name], lw = 2, color = 'limegreen', linestyle = 'dashdot', label = 'Fully reduced network')\n",
    "    ax[index].set_xlabel('Time [hr]', fontsize = 18)\n",
    "    ax[index].set_ylabel('{} tank level [m]'.format(tank_name), fontsize = 18)\n",
    "ax[0].legend()\n",
    "fig.tight_layout()"
   ]
  },
  {
   "cell_type": "markdown",
   "id": "690142ee",
   "metadata": {
    "id": "690142ee"
   },
   "source": [
    "## Provide operating point and a list of nodes to keep\n",
    "In this example, we demonstrate how to reduce a network model proving an operating point and a list of nodes to keep in the reduced model. We plot the original and reduced networks, as well as number of nodes and links, running time, and tank levels."
   ]
  },
  {
   "cell_type": "code",
   "execution_count": null,
   "id": "95724af5",
   "metadata": {
    "colab": {
     "base_uri": "https://localhost:8080/",
     "height": 508
    },
    "id": "95724af5",
    "outputId": "20b9169b-1d70-4c73-a6a9-8144261761a6"
   },
   "outputs": [],
   "source": [
    "# Specify operating point (optional)\n",
    "op_pt = 13\n",
    "\n",
    "# Specify list of nodes to keep (optional)\n",
    "list_of_nodes_to_keep = ['J-103','J-50']\n",
    "\n",
    "# Specify maximum nodal degree of nodes being removed from the model (optional)\n",
    "# max_nodal_degree = 1 indicates removal of only branches and merging of parallel pipes\n",
    "# max_nodal_degree = 2 indicates removal of branches, merging of parallel pipes, and merging of pipes in series\n",
    "max_nodal_degree = None\n",
    "\n",
    "# Call model reduction function\n",
    "t1 = time.time()\n",
    "wn3 = mg.reduction.reduce_model(inp_file, op_pt, list_of_nodes_to_keep, max_nodal_degree)\n",
    "t2 = time.time()\n",
    "\n",
    "# Plot the original network\n",
    "fig, ax = plt.subplots(1, 2, figsize=(12,5))\n",
    "plot_network(wn, 'Full network', 0)\n",
    "\n",
    "# Plot the reduced network\n",
    "plot_network(wn3, 'Partially reduced network', 1)\n",
    "plt.setp(ax, ylim=ax[0].get_ylim())\n",
    "plt.setp(ax, xlim=ax[0].get_xlim())\n",
    "\n",
    "# Display reduction time and number of elements\n",
    "print('Total reduction time:', str(round(t2-t1, 2)), 's')\n",
    "print('Number of junctions in the original network:', \"\\033[1m\", wn.num_junctions, \"\\033[0;0m\", 'vs. number of junctions in the reduced network:',\"\\033[1m\", wn3.num_junctions, \"\\033[0;0m\")\n",
    "print('Number of pipes in the original network:', \"\\033[1m\",wn.num_pipes,\"\\033[0;0m\", 'vs. number of pipes in the reduced network:',\"\\033[1m\", wn3.num_pipes, \"\\033[0;0m\")"
   ]
  },
  {
   "cell_type": "code",
   "execution_count": null,
   "id": "104ee588",
   "metadata": {},
   "outputs": [],
   "source": [
    "# Run a hydaulic simulation for the reduced model \n",
    "sim3 = wntr.sim.EpanetSimulator(wn3)            \n",
    "results3 = sim3.run_sim()\n",
    "\n",
    "# Plot KY2 tank levels \n",
    "fig, ax = plt.subplots(1,3,figsize=(14,4))\n",
    "for index, tank_name in enumerate(wn.tank_name_list):\n",
    "    ax[index].plot(results.node['head'].index/3600, results.node['head'].loc[:,tank_name], lw = 2, color = 'r', label = 'Full network')\n",
    "    ax[index].plot(results3.node['head'].index/3600, results3.node['head'].loc[:,tank_name], lw = 2, color = 'limegreen', linestyle = 'dashdot', label = 'Partially reduced network')\n",
    "    ax[index].set_xlabel('Time [hr]', fontsize = 18)\n",
    "    ax[index].set_ylabel('{} tank level [m]'.format(tank_name), fontsize = 18)\n",
    "ax[0].legend()\n",
    "fig.tight_layout()"
   ]
  },
  {
   "cell_type": "markdown",
   "id": "5d363345",
   "metadata": {},
   "source": [
    "### We can see that the choice of operating point can affect how well the reduced model matches the full model."
   ]
  },
  {
   "cell_type": "markdown",
   "id": "b8e5fcb5",
   "metadata": {
    "id": "b8e5fcb5"
   },
   "source": [
    "## Remove all branches\n",
    "In this example, we demonstrate how to reduce a network model by removing all nodes with node degree equal to 1 (i.e., branches). We plot the original and reduced networks, as well as number of nodes and links, running time, and tank levels."
   ]
  },
  {
   "cell_type": "code",
   "execution_count": null,
   "id": "eacd2346",
   "metadata": {
    "colab": {
     "base_uri": "https://localhost:8080/",
     "height": 508
    },
    "id": "eacd2346",
    "outputId": "3025fe77-8a26-4457-effc-7570f4bee7aa"
   },
   "outputs": [],
   "source": [
    "#Specify maximum nodal degree in reduced model (optional)\n",
    "max_nodal_degree = 1\n",
    "\n",
    "# Call model reduction function\n",
    "t1 = time.time()\n",
    "wn4 = mg.reduction.reduce_model(inp_file, None, None, max_nodal_degree)\n",
    "t2 = time.time()\n",
    "\n",
    "# Plot the original network\n",
    "fig, ax = plt.subplots(1, 2, figsize=(12,5))\n",
    "plot_network(wn, 'Full network', 0)\n",
    "\n",
    "# Plot the reduced network\n",
    "plot_network(wn4, 'Removing all branches', 1)\n",
    "plt.setp(ax, ylim=ax[0].get_ylim())\n",
    "plt.setp(ax, xlim=ax[0].get_xlim())\n",
    "\n",
    "# Display reduction time and number of elements\n",
    "print('Total reduction time:', str(round(t2-t1, 2)), 's')\n",
    "print('Number of junctions in the original network:', \"\\033[1m\", wn.num_junctions, \"\\033[0;0m\", 'vs. number of junctions in the reduced network:',\"\\033[1m\", wn4.num_junctions, \"\\033[0;0m\")\n",
    "print('Number of pipes in the original network:', \"\\033[1m\",wn.num_pipes,\"\\033[0;0m\", 'vs. number of pipes in the reduced network:',\"\\033[1m\", wn4.num_pipes, \"\\033[0;0m\")"
   ]
  },
  {
   "cell_type": "code",
   "execution_count": null,
   "id": "12c3f74e",
   "metadata": {},
   "outputs": [],
   "source": [
    "# Run a hydaulic simulation for the reduced model \n",
    "sim4 = wntr.sim.EpanetSimulator(wn4)            \n",
    "results4 = sim4.run_sim()\n",
    "\n",
    "# Plot KY2 tank levels \n",
    "fig, ax = plt.subplots(1,3,figsize=(14,4))\n",
    "for index, tank_name in enumerate(wn.tank_name_list):\n",
    "    ax[index].plot(results.node['head'].index/3600, results.node['head'].loc[:,tank_name], lw = 2, color = 'r', label = 'Full network')\n",
    "    ax[index].plot(results4.node['head'].index/3600, results4.node['head'].loc[:,tank_name], lw = 2, color = 'limegreen', linestyle = 'dashdot', label = 'Removing all branches')\n",
    "    ax[index].set_xlabel('Time [hr]', fontsize = 18)\n",
    "    ax[index].set_ylabel('{} tank level [m]'.format(tank_name), fontsize = 18)\n",
    "ax[0].legend()\n",
    "fig.tight_layout()"
   ]
  },
  {
   "cell_type": "markdown",
   "id": "10ccc2f5",
   "metadata": {
    "id": "10ccc2f5"
   },
   "source": [
    "## Remove all branches and pipes in series\n",
    "In this example, we demonstrate how to reduce a network model by removing all nodes with node degree equal or less than 2 (i.e., all branches and pipes in series). We plot the original and reduced networks, as well as number of nodes and links, running time, and tank levels."
   ]
  },
  {
   "cell_type": "code",
   "execution_count": null,
   "id": "a5be2364",
   "metadata": {
    "colab": {
     "base_uri": "https://localhost:8080/",
     "height": 508
    },
    "id": "a5be2364",
    "outputId": "cb03685d-c161-4895-b194-b2687039c04d",
    "tags": []
   },
   "outputs": [],
   "source": [
    "# Specify maximum nodal degree in reduced model\n",
    "max_nodal_degree = 2\n",
    "\n",
    "# Call model reduction function\n",
    "t1 = time.time()\n",
    "wn5 = mg.reduction.reduce_model(inp_file, None, None, max_nodal_degree)\n",
    "t2 = time.time()\n",
    "\n",
    "# Plot the original network\n",
    "fig, ax = plt.subplots(1, 2, figsize=(12,5))\n",
    "plot_network(wn, 'Full network', 0)\n",
    "plt.setp(ax, ylim=ax[0].get_ylim())\n",
    "plt.setp(ax, xlim=ax[0].get_xlim())\n",
    "\n",
    "# Plot the reduced network\n",
    "plot_network(wn5, 'Removing all branches and pipes in series', 1)\n",
    "\n",
    "# Display reduction time and number of elements\n",
    "print('Total reduction time:', str(round(t2-t1, 2)), 's')\n",
    "print('Number of junctions in the original network:', \"\\033[1m\", wn.num_junctions, \"\\033[0;0m\", 'vs. number of junctions in the reduced network:',\"\\033[1m\", wn5.num_junctions, \"\\033[0;0m\")\n",
    "print('Number of pipes in the original network:', \"\\033[1m\",wn.num_pipes,\"\\033[0;0m\", 'vs. number of pipes in the reduced network:',\"\\033[1m\", wn5.num_pipes, \"\\033[0;0m\")"
   ]
  },
  {
   "cell_type": "code",
   "execution_count": null,
   "id": "611a5c74-baea-4341-b3b7-d14e621e8561",
   "metadata": {},
   "outputs": [],
   "source": [
    "# Run a hydaulic simulation for the reduced model \n",
    "sim5 = wntr.sim.EpanetSimulator(wn5)            \n",
    "results5 = sim5.run_sim()\n",
    "\n",
    "# Plot KY2 tank levels \n",
    "fig, ax = plt.subplots(1,3,figsize=(14,4))\n",
    "for index, tank_name in enumerate(wn.tank_name_list):\n",
    "    ax[index].plot(results.node['head'].index/3600, results.node['head'].loc[:,tank_name], lw = 2, color = 'r', label = 'Full network')\n",
    "    ax[index].plot(results5.node['head'].index/3600, results5.node['head'].loc[:,tank_name], lw = 2, color = 'limegreen', linestyle = 'dashdot', label = 'Removing all branches and pipes in series')\n",
    "    ax[index].set_xlabel('Time [hr]', fontsize = 18)\n",
    "    ax[index].set_ylabel('{} tank level [m]'.format(tank_name), fontsize = 18)\n",
    "ax[0].legend()\n",
    "fig.tight_layout()"
   ]
  },
  {
   "cell_type": "code",
   "execution_count": null,
   "id": "95ba00bc",
   "metadata": {},
   "outputs": [],
   "source": []
  }
 ],
 "metadata": {
  "colab": {
   "include_colab_link": true,
   "provenance": [],
   "toc_visible": true
  },
  "kernelspec": {
   "display_name": "Python 3 (ipykernel)",
   "language": "python",
   "name": "python3"
  },
  "language_info": {
   "codemirror_mode": {
    "name": "ipython",
    "version": 3
   },
   "file_extension": ".py",
   "mimetype": "text/x-python",
   "name": "python",
   "nbconvert_exporter": "python",
   "pygments_lexer": "ipython3",
   "version": "3.9.13"
  },
  "varInspector": {
   "cols": {
    "lenName": 16,
    "lenType": 16,
    "lenVar": 40
   },
   "kernels_config": {
    "python": {
     "delete_cmd_postfix": "",
     "delete_cmd_prefix": "del ",
     "library": "var_list.py",
     "varRefreshCmd": "print(var_dic_list())"
    },
    "r": {
     "delete_cmd_postfix": ") ",
     "delete_cmd_prefix": "rm(",
     "library": "var_list.r",
     "varRefreshCmd": "cat(var_dic_list()) "
    }
   },
   "types_to_exclude": [
    "module",
    "function",
    "builtin_function_or_method",
    "instance",
    "_Feature"
   ],
   "window_display": false
  }
 },
 "nbformat": 4,
 "nbformat_minor": 5
}
